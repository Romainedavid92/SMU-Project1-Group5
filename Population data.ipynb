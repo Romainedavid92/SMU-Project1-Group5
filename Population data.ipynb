{
 "cells": [
  {
   "cell_type": "markdown",
   "metadata": {},
   "source": [
    "Population Density"
   ]
  },
  {
   "cell_type": "code",
   "execution_count": 40,
   "metadata": {},
   "outputs": [],
   "source": [
    "%matplotlib inline\n",
    "\n",
    "# Dependencies\n",
    "import matplotlib.pyplot as plt\n",
    "import numpy as np\n",
    "import pandas as pd"
   ]
  },
  {
   "cell_type": "code",
   "execution_count": 41,
   "metadata": {},
   "outputs": [],
   "source": [
    "# Load in csv\n",
    "\n",
    "bees_df = pd.read_csv(\"bees_new_2.csv\")\n",
    "\n",
    "pop_est_df = pd.read_csv(\"pop_est_clean.csv\")\n",
    "\n",
    "land_area_df = pd.read_csv(\"land_area.csv\")\n",
    "\n",
    "abbr_name_df = pd.read_csv(\"abbr-name.csv\", header=None)\n",
    "abbr_name_df = abbr_name_df.rename(columns={0:\"State_Abb\", 1:\"State\"})"
   ]
  },
  {
   "cell_type": "code",
   "execution_count": 42,
   "metadata": {},
   "outputs": [
    {
     "data": {
      "text/html": [
       "<div>\n",
       "<style scoped>\n",
       "    .dataframe tbody tr th:only-of-type {\n",
       "        vertical-align: middle;\n",
       "    }\n",
       "\n",
       "    .dataframe tbody tr th {\n",
       "        vertical-align: top;\n",
       "    }\n",
       "\n",
       "    .dataframe thead th {\n",
       "        text-align: right;\n",
       "    }\n",
       "</style>\n",
       "<table border=\"1\" class=\"dataframe\">\n",
       "  <thead>\n",
       "    <tr style=\"text-align: right;\">\n",
       "      <th></th>\n",
       "      <th>State</th>\n",
       "      <th>CENSUS2010POP</th>\n",
       "      <th>POPESTIMATE2011</th>\n",
       "      <th>POPESTIMATE2012</th>\n",
       "      <th>POPESTIMATE2013</th>\n",
       "      <th>POPESTIMATE2014</th>\n",
       "      <th>POPESTIMATE2015</th>\n",
       "      <th>POPESTIMATE2016</th>\n",
       "      <th>POPESTIMATE2017</th>\n",
       "      <th>POPESTIMATE2018</th>\n",
       "    </tr>\n",
       "  </thead>\n",
       "  <tbody>\n",
       "    <tr>\n",
       "      <th>0</th>\n",
       "      <td>Alabama</td>\n",
       "      <td>4779736</td>\n",
       "      <td>4798834</td>\n",
       "      <td>4815564</td>\n",
       "      <td>4830460</td>\n",
       "      <td>4842481</td>\n",
       "      <td>4853160</td>\n",
       "      <td>4864745</td>\n",
       "      <td>4875120</td>\n",
       "      <td>4887871</td>\n",
       "    </tr>\n",
       "    <tr>\n",
       "      <th>1</th>\n",
       "      <td>Alaska</td>\n",
       "      <td>710231</td>\n",
       "      <td>722038</td>\n",
       "      <td>730399</td>\n",
       "      <td>737045</td>\n",
       "      <td>736307</td>\n",
       "      <td>737547</td>\n",
       "      <td>741504</td>\n",
       "      <td>739786</td>\n",
       "      <td>737438</td>\n",
       "    </tr>\n",
       "    <tr>\n",
       "      <th>2</th>\n",
       "      <td>Arizona</td>\n",
       "      <td>6392017</td>\n",
       "      <td>6473497</td>\n",
       "      <td>6556629</td>\n",
       "      <td>6634999</td>\n",
       "      <td>6733840</td>\n",
       "      <td>6833596</td>\n",
       "      <td>6945452</td>\n",
       "      <td>7048876</td>\n",
       "      <td>7171646</td>\n",
       "    </tr>\n",
       "    <tr>\n",
       "      <th>3</th>\n",
       "      <td>Arkansas</td>\n",
       "      <td>2915918</td>\n",
       "      <td>2940407</td>\n",
       "      <td>2952109</td>\n",
       "      <td>2959549</td>\n",
       "      <td>2967726</td>\n",
       "      <td>2978407</td>\n",
       "      <td>2990410</td>\n",
       "      <td>3002997</td>\n",
       "      <td>3013825</td>\n",
       "    </tr>\n",
       "    <tr>\n",
       "      <th>4</th>\n",
       "      <td>California</td>\n",
       "      <td>37253956</td>\n",
       "      <td>37641823</td>\n",
       "      <td>37960782</td>\n",
       "      <td>38280824</td>\n",
       "      <td>38625139</td>\n",
       "      <td>38953142</td>\n",
       "      <td>39209127</td>\n",
       "      <td>39399349</td>\n",
       "      <td>39557045</td>\n",
       "    </tr>\n",
       "  </tbody>\n",
       "</table>\n",
       "</div>"
      ],
      "text/plain": [
       "        State  CENSUS2010POP  POPESTIMATE2011  POPESTIMATE2012  \\\n",
       "0     Alabama        4779736          4798834          4815564   \n",
       "1      Alaska         710231           722038           730399   \n",
       "2     Arizona        6392017          6473497          6556629   \n",
       "3    Arkansas        2915918          2940407          2952109   \n",
       "4  California       37253956         37641823         37960782   \n",
       "\n",
       "   POPESTIMATE2013  POPESTIMATE2014  POPESTIMATE2015  POPESTIMATE2016  \\\n",
       "0          4830460          4842481          4853160          4864745   \n",
       "1           737045           736307           737547           741504   \n",
       "2          6634999          6733840          6833596          6945452   \n",
       "3          2959549          2967726          2978407          2990410   \n",
       "4         38280824         38625139         38953142         39209127   \n",
       "\n",
       "   POPESTIMATE2017  POPESTIMATE2018  \n",
       "0          4875120          4887871  \n",
       "1           739786           737438  \n",
       "2          7048876          7171646  \n",
       "3          3002997          3013825  \n",
       "4         39399349         39557045  "
      ]
     },
     "execution_count": 42,
     "metadata": {},
     "output_type": "execute_result"
    }
   ],
   "source": [
    "pop_est_df =pop_est_df.rename(columns={'NAME':'State'})\n",
    "pop_est_df.head()"
   ]
  },
  {
   "cell_type": "code",
   "execution_count": 43,
   "metadata": {},
   "outputs": [],
   "source": [
    "#Create the DataFrame for the Population Density\n",
    "pop_density_df = pd.DataFrame()\n",
    "pop_density_df['State'] = pop_est_df['State']"
   ]
  },
  {
   "cell_type": "code",
   "execution_count": 44,
   "metadata": {},
   "outputs": [
    {
     "data": {
      "text/html": [
       "<div>\n",
       "<style scoped>\n",
       "    .dataframe tbody tr th:only-of-type {\n",
       "        vertical-align: middle;\n",
       "    }\n",
       "\n",
       "    .dataframe tbody tr th {\n",
       "        vertical-align: top;\n",
       "    }\n",
       "\n",
       "    .dataframe thead th {\n",
       "        text-align: right;\n",
       "    }\n",
       "</style>\n",
       "<table border=\"1\" class=\"dataframe\">\n",
       "  <thead>\n",
       "    <tr style=\"text-align: right;\">\n",
       "      <th>State_Abb</th>\n",
       "      <th>AL</th>\n",
       "      <th>AK</th>\n",
       "      <th>AZ</th>\n",
       "      <th>AR</th>\n",
       "      <th>CA</th>\n",
       "      <th>CO</th>\n",
       "      <th>CT</th>\n",
       "      <th>DE</th>\n",
       "      <th>FL</th>\n",
       "      <th>GA</th>\n",
       "      <th>...</th>\n",
       "      <th>SD</th>\n",
       "      <th>TN</th>\n",
       "      <th>TX</th>\n",
       "      <th>UT</th>\n",
       "      <th>VT</th>\n",
       "      <th>VA</th>\n",
       "      <th>WA</th>\n",
       "      <th>WV</th>\n",
       "      <th>WI</th>\n",
       "      <th>WY</th>\n",
       "    </tr>\n",
       "  </thead>\n",
       "  <tbody>\n",
       "    <tr>\n",
       "      <th>2015</th>\n",
       "      <td>4853160</td>\n",
       "      <td>737547</td>\n",
       "      <td>6833596</td>\n",
       "      <td>2978407</td>\n",
       "      <td>38953142</td>\n",
       "      <td>5452107</td>\n",
       "      <td>3587509</td>\n",
       "      <td>941413</td>\n",
       "      <td>20224249</td>\n",
       "      <td>10181111</td>\n",
       "      <td>...</td>\n",
       "      <td>853933</td>\n",
       "      <td>6590808</td>\n",
       "      <td>27486814</td>\n",
       "      <td>2982497</td>\n",
       "      <td>625197</td>\n",
       "      <td>8362907</td>\n",
       "      <td>7163543</td>\n",
       "      <td>1841996</td>\n",
       "      <td>5761406</td>\n",
       "      <td>585668</td>\n",
       "    </tr>\n",
       "    <tr>\n",
       "      <th>2016</th>\n",
       "      <td>4864745</td>\n",
       "      <td>741504</td>\n",
       "      <td>6945452</td>\n",
       "      <td>2990410</td>\n",
       "      <td>39209127</td>\n",
       "      <td>5540921</td>\n",
       "      <td>3578674</td>\n",
       "      <td>949216</td>\n",
       "      <td>20629982</td>\n",
       "      <td>10304763</td>\n",
       "      <td>...</td>\n",
       "      <td>862890</td>\n",
       "      <td>6645011</td>\n",
       "      <td>27937492</td>\n",
       "      <td>3042613</td>\n",
       "      <td>623644</td>\n",
       "      <td>8410946</td>\n",
       "      <td>7294680</td>\n",
       "      <td>1830929</td>\n",
       "      <td>5772958</td>\n",
       "      <td>584290</td>\n",
       "    </tr>\n",
       "    <tr>\n",
       "      <th>2017</th>\n",
       "      <td>4875120</td>\n",
       "      <td>739786</td>\n",
       "      <td>7048876</td>\n",
       "      <td>3002997</td>\n",
       "      <td>39399349</td>\n",
       "      <td>5615902</td>\n",
       "      <td>3573880</td>\n",
       "      <td>957078</td>\n",
       "      <td>20976812</td>\n",
       "      <td>10413055</td>\n",
       "      <td>...</td>\n",
       "      <td>873286</td>\n",
       "      <td>6708794</td>\n",
       "      <td>28322717</td>\n",
       "      <td>3103118</td>\n",
       "      <td>624525</td>\n",
       "      <td>8465207</td>\n",
       "      <td>7425432</td>\n",
       "      <td>1817048</td>\n",
       "      <td>5792051</td>\n",
       "      <td>578934</td>\n",
       "    </tr>\n",
       "    <tr>\n",
       "      <th>2018</th>\n",
       "      <td>4887871</td>\n",
       "      <td>737438</td>\n",
       "      <td>7171646</td>\n",
       "      <td>3013825</td>\n",
       "      <td>39557045</td>\n",
       "      <td>5695564</td>\n",
       "      <td>3572665</td>\n",
       "      <td>967171</td>\n",
       "      <td>21299325</td>\n",
       "      <td>10519475</td>\n",
       "      <td>...</td>\n",
       "      <td>882235</td>\n",
       "      <td>6770010</td>\n",
       "      <td>28701845</td>\n",
       "      <td>3161105</td>\n",
       "      <td>626299</td>\n",
       "      <td>8517685</td>\n",
       "      <td>7535591</td>\n",
       "      <td>1805832</td>\n",
       "      <td>5813568</td>\n",
       "      <td>577737</td>\n",
       "    </tr>\n",
       "  </tbody>\n",
       "</table>\n",
       "<p>4 rows × 50 columns</p>\n",
       "</div>"
      ],
      "text/plain": [
       "State_Abb       AL      AK       AZ       AR        CA       CO       CT  \\\n",
       "2015       4853160  737547  6833596  2978407  38953142  5452107  3587509   \n",
       "2016       4864745  741504  6945452  2990410  39209127  5540921  3578674   \n",
       "2017       4875120  739786  7048876  3002997  39399349  5615902  3573880   \n",
       "2018       4887871  737438  7171646  3013825  39557045  5695564  3572665   \n",
       "\n",
       "State_Abb      DE        FL        GA  ...      SD       TN        TX  \\\n",
       "2015       941413  20224249  10181111  ...  853933  6590808  27486814   \n",
       "2016       949216  20629982  10304763  ...  862890  6645011  27937492   \n",
       "2017       957078  20976812  10413055  ...  873286  6708794  28322717   \n",
       "2018       967171  21299325  10519475  ...  882235  6770010  28701845   \n",
       "\n",
       "State_Abb       UT      VT       VA       WA       WV       WI      WY  \n",
       "2015       2982497  625197  8362907  7163543  1841996  5761406  585668  \n",
       "2016       3042613  623644  8410946  7294680  1830929  5772958  584290  \n",
       "2017       3103118  624525  8465207  7425432  1817048  5792051  578934  \n",
       "2018       3161105  626299  8517685  7535591  1805832  5813568  577737  \n",
       "\n",
       "[4 rows x 50 columns]"
      ]
     },
     "execution_count": 44,
     "metadata": {},
     "output_type": "execute_result"
    }
   ],
   "source": [
    "pop_est_df = pd.merge(abbr_name_df, pop_est_df, on='State')\n",
    "pop_est_df =pop_est_df.drop(['State', 'CENSUS2010POP',\n",
    "                             'POPESTIMATE2011','POPESTIMATE2012',\n",
    "                            'POPESTIMATE2013','POPESTIMATE2014'], axis =1)\n",
    "\n",
    "pop_est_df = pop_est_df.rename(columns={'POPESTIMATE2015':2015,\n",
    "                                                'POPESTIMATE2016':2016,\n",
    "                                                'POPESTIMATE2017':2017,\n",
    "                                                'POPESTIMATE2018':2018})\n",
    "\n",
    "pop_est_df2= pop_est_df.set_index('State_Abb')\n",
    "pop_est_df_T = pop_est_df2.T\n",
    "\n",
    "\n",
    "pop_est_df_T.head()"
   ]
  },
  {
   "cell_type": "code",
   "execution_count": 45,
   "metadata": {},
   "outputs": [
    {
     "data": {
      "text/html": [
       "<div>\n",
       "<style scoped>\n",
       "    .dataframe tbody tr th:only-of-type {\n",
       "        vertical-align: middle;\n",
       "    }\n",
       "\n",
       "    .dataframe tbody tr th {\n",
       "        vertical-align: top;\n",
       "    }\n",
       "\n",
       "    .dataframe thead th {\n",
       "        text-align: right;\n",
       "    }\n",
       "</style>\n",
       "<table border=\"1\" class=\"dataframe\">\n",
       "  <thead>\n",
       "    <tr style=\"text-align: right;\">\n",
       "      <th></th>\n",
       "      <th>State_Abb</th>\n",
       "      <th>2015</th>\n",
       "      <th>2016</th>\n",
       "      <th>2017</th>\n",
       "      <th>2018</th>\n",
       "    </tr>\n",
       "  </thead>\n",
       "  <tbody>\n",
       "    <tr>\n",
       "      <th>4</th>\n",
       "      <td>CA</td>\n",
       "      <td>38953142</td>\n",
       "      <td>39209127</td>\n",
       "      <td>39399349</td>\n",
       "      <td>39557045</td>\n",
       "    </tr>\n",
       "    <tr>\n",
       "      <th>42</th>\n",
       "      <td>TX</td>\n",
       "      <td>27486814</td>\n",
       "      <td>27937492</td>\n",
       "      <td>28322717</td>\n",
       "      <td>28701845</td>\n",
       "    </tr>\n",
       "    <tr>\n",
       "      <th>8</th>\n",
       "      <td>FL</td>\n",
       "      <td>20224249</td>\n",
       "      <td>20629982</td>\n",
       "      <td>20976812</td>\n",
       "      <td>21299325</td>\n",
       "    </tr>\n",
       "    <tr>\n",
       "      <th>31</th>\n",
       "      <td>NY</td>\n",
       "      <td>19661411</td>\n",
       "      <td>19641589</td>\n",
       "      <td>19590719</td>\n",
       "      <td>19542209</td>\n",
       "    </tr>\n",
       "    <tr>\n",
       "      <th>37</th>\n",
       "      <td>PA</td>\n",
       "      <td>12785759</td>\n",
       "      <td>12783538</td>\n",
       "      <td>12790447</td>\n",
       "      <td>12807060</td>\n",
       "    </tr>\n",
       "  </tbody>\n",
       "</table>\n",
       "</div>"
      ],
      "text/plain": [
       "   State_Abb      2015      2016      2017      2018\n",
       "4         CA  38953142  39209127  39399349  39557045\n",
       "42        TX  27486814  27937492  28322717  28701845\n",
       "8         FL  20224249  20629982  20976812  21299325\n",
       "31        NY  19661411  19641589  19590719  19542209\n",
       "37        PA  12785759  12783538  12790447  12807060"
      ]
     },
     "execution_count": 45,
     "metadata": {},
     "output_type": "execute_result"
    }
   ],
   "source": [
    "pop_est_df_sorted= pop_est_df.sort_values(by=[2018], ascending=False)\n",
    "pop_est_df_sorted.head()"
   ]
  },
  {
   "cell_type": "code",
   "execution_count": 46,
   "metadata": {},
   "outputs": [
    {
     "data": {
      "image/png": "[encoded data removed]",
      "text/plain": [
       "<Figure size 432x288 with 1 Axes>"
      ]
     },
     "metadata": {
      "needs_background": "light"
     },
     "output_type": "display_data"
    }
   ],
   "source": [
    "fig, ax7 = plt.subplots()\n",
    "#mouse count\n",
    "ax7.errorbar(pop_est_df_T.index, pop_est_df_T.CA, fmt=\"o:\", color='r', label = 'CA')\n",
    "ax7.errorbar(pop_est_df_T.index, pop_est_df_T.TX, fmt=\"s:\", color='g', label = 'TX')\n",
    "ax7.errorbar(pop_est_df_T.index, pop_est_df_T.FL, fmt=\"^:\", color='b', label = 'FL')\n",
    "ax7.errorbar(pop_est_df_T.index, pop_est_df_T.NY, fmt=\"D:\", color='black', label = 'NY')\n",
    "ax7.errorbar(pop_est_df_T.index, pop_est_df_T.PA, fmt=\"*:\", color='y', label = 'PA')\n",
    "\n",
    "ax7.legend(loc=\"best\")\n",
    "# ax7.set_xlim(2014, 2019)\n",
    "# ax7.set_ylim(400, 1500)\n",
    "ax7.set_title(\"Top 5 States on Estimated Population from 2015-2018\")\n",
    "ax7.set_xlabel(\"Year\")\n",
    "ax7.set_ylabel(\"Estimated Population\")\n",
    "ax7.grid()\n",
    "\n",
    "\n",
    "# Save the Figure\n",
    "plt.savefig('Top 5 States on Estimated Population.png')\n",
    "\n",
    "plt.show()"
   ]
  },
  {
   "cell_type": "code",
   "execution_count": 47,
   "metadata": {},
   "outputs": [
    {
     "ename": "NameError",
     "evalue": "name 'bees_lost_colonies_df_T' is not defined",
     "output_type": "error",
     "traceback": [
      "\u001b[0;31m---------------------------------------------------------------------------\u001b[0m",
      "\u001b[0;31mNameError\u001b[0m                                 Traceback (most recent call last)",
      "\u001b[0;32m<ipython-input-47-588d6f2859f2>\u001b[0m in \u001b[0;36m<module>\u001b[0;34m\u001b[0m\n\u001b[1;32m      1\u001b[0m \u001b[0mfig\u001b[0m\u001b[0;34m,\u001b[0m \u001b[0max8\u001b[0m \u001b[0;34m=\u001b[0m \u001b[0mplt\u001b[0m\u001b[0;34m.\u001b[0m\u001b[0msubplots\u001b[0m\u001b[0;34m(\u001b[0m\u001b[0;34m)\u001b[0m\u001b[0;34m\u001b[0m\u001b[0;34m\u001b[0m\u001b[0m\n\u001b[1;32m      2\u001b[0m \u001b[0;31m#mouse count\u001b[0m\u001b[0;34m\u001b[0m\u001b[0;34m\u001b[0m\u001b[0;34m\u001b[0m\u001b[0m\n\u001b[0;32m----> 3\u001b[0;31m \u001b[0max8\u001b[0m\u001b[0;34m.\u001b[0m\u001b[0merrorbar\u001b[0m\u001b[0;34m(\u001b[0m\u001b[0mbees_lost_colonies_df_T\u001b[0m\u001b[0;34m.\u001b[0m\u001b[0mindex\u001b[0m\u001b[0;34m,\u001b[0m \u001b[0mbees_lost_colonies_df_T\u001b[0m\u001b[0;34m.\u001b[0m\u001b[0mCA\u001b[0m\u001b[0;34m,\u001b[0m \u001b[0mfmt\u001b[0m\u001b[0;34m=\u001b[0m\u001b[0;34m\"o:\"\u001b[0m\u001b[0;34m,\u001b[0m \u001b[0mcolor\u001b[0m\u001b[0;34m=\u001b[0m\u001b[0;34m'r'\u001b[0m\u001b[0;34m,\u001b[0m \u001b[0mlabel\u001b[0m \u001b[0;34m=\u001b[0m \u001b[0;34m'CA'\u001b[0m\u001b[0;34m)\u001b[0m\u001b[0;34m\u001b[0m\u001b[0;34m\u001b[0m\u001b[0m\n\u001b[0m\u001b[1;32m      4\u001b[0m \u001b[0max8\u001b[0m\u001b[0;34m.\u001b[0m\u001b[0merrorbar\u001b[0m\u001b[0;34m(\u001b[0m\u001b[0mbees_lost_colonies_df_T\u001b[0m\u001b[0;34m.\u001b[0m\u001b[0mindex\u001b[0m\u001b[0;34m,\u001b[0m \u001b[0mbees_lost_colonies_df_T\u001b[0m\u001b[0;34m.\u001b[0m\u001b[0mTX\u001b[0m\u001b[0;34m,\u001b[0m \u001b[0mfmt\u001b[0m\u001b[0;34m=\u001b[0m\u001b[0;34m\"s:\"\u001b[0m\u001b[0;34m,\u001b[0m \u001b[0mcolor\u001b[0m\u001b[0;34m=\u001b[0m\u001b[0;34m'g'\u001b[0m\u001b[0;34m,\u001b[0m \u001b[0mlabel\u001b[0m \u001b[0;34m=\u001b[0m \u001b[0;34m'TX'\u001b[0m\u001b[0;34m)\u001b[0m\u001b[0;34m\u001b[0m\u001b[0;34m\u001b[0m\u001b[0m\n\u001b[1;32m      5\u001b[0m \u001b[0max8\u001b[0m\u001b[0;34m.\u001b[0m\u001b[0merrorbar\u001b[0m\u001b[0;34m(\u001b[0m\u001b[0mbees_lost_colonies_df_T\u001b[0m\u001b[0;34m.\u001b[0m\u001b[0mindex\u001b[0m\u001b[0;34m,\u001b[0m \u001b[0mbees_lost_colonies_df_T\u001b[0m\u001b[0;34m.\u001b[0m\u001b[0mFL\u001b[0m\u001b[0;34m,\u001b[0m \u001b[0mfmt\u001b[0m\u001b[0;34m=\u001b[0m\u001b[0;34m\"^:\"\u001b[0m\u001b[0;34m,\u001b[0m \u001b[0mcolor\u001b[0m\u001b[0;34m=\u001b[0m\u001b[0;34m'b'\u001b[0m\u001b[0;34m,\u001b[0m \u001b[0mlabel\u001b[0m \u001b[0;34m=\u001b[0m \u001b[0;34m'FL'\u001b[0m\u001b[0;34m)\u001b[0m\u001b[0;34m\u001b[0m\u001b[0;34m\u001b[0m\u001b[0m\n",
      "\u001b[0;31mNameError\u001b[0m: name 'bees_lost_colonies_df_T' is not defined"
     ]
    },
    {
     "data": {
      "image/png": "[encoded data removed]",
      "text/plain": [
       "<Figure size 432x288 with 1 Axes>"
      ]
     },
     "metadata": {
      "needs_background": "light"
     },
     "output_type": "display_data"
    }
   ],
   "source": [
    "fig, ax8 = plt.subplots()\n",
    "#mouse count\n",
    "ax8.errorbar(bees_lost_colonies_df_T.index, bees_lost_colonies_df_T.CA, fmt=\"o:\", color='r', label = 'CA')\n",
    "ax8.errorbar(bees_lost_colonies_df_T.index, bees_lost_colonies_df_T.TX, fmt=\"s:\", color='g', label = 'TX')\n",
    "ax8.errorbar(bees_lost_colonies_df_T.index, bees_lost_colonies_df_T.FL, fmt=\"^:\", color='b', label = 'FL')\n",
    "ax8.errorbar(bees_lost_colonies_df_T.index, bees_lost_colonies_df_T.NY, fmt=\"D:\", color='black', label = 'NY')\n",
    "ax8.errorbar(bees_lost_colonies_df_T.index, bees_lost_colonies_df_T.PA, fmt=\"*:\", color='y', label = 'PA')\n",
    "\n",
    "ax8.legend(loc=\"best\")\n",
    "# ax4.set_xlim(2014, 2019)\n",
    "# ax4.set_ylim(0, 150000)\n",
    "ax8.set_title(\"Lost Bee Colonies on 2018 Top 5 States based on Population on  from 2015-2018\")\n",
    "ax8.set_xlabel(\"Year\")\n",
    "ax8.set_ylabel(\"Lost Bee Colonies\")\n",
    "ax8.grid()\n",
    "\n",
    "\n",
    "# Save the Figure\n",
    "plt.savefig('Lost Bee Colonies on Top 5 States based on Population.png')\n",
    "\n",
    "plt.show()"
   ]
  },
  {
   "cell_type": "code",
   "execution_count": null,
   "metadata": {},
   "outputs": [],
   "source": []
  },
  {
   "cell_type": "code",
   "execution_count": 48,
   "metadata": {},
   "outputs": [
    {
     "data": {
      "image/png": "[encoded data removed]",
      "text/plain": [
       "<Figure size 432x288 with 1 Axes>"
      ]
     },
     "metadata": {
      "needs_background": "light"
     },
     "output_type": "display_data"
    }
   ],
   "source": [
    "fig, ax8 = plt.subplots()\n",
    "#mouse count\n",
    "ax8.errorbar(pop_est_df_T.index, pop_est_df_T.CA, fmt=\"o:\", color='r', label = 'CA')\n",
    "ax8.errorbar(pop_est_df_T.index, pop_est_df_T.ND, fmt=\"^:\", color='b', label = 'ND')\n",
    "ax8.errorbar(pop_est_df_T.index, pop_est_df_T.TX, fmt=\"s:\", color='g', label = 'TX')\n",
    "ax8.errorbar(pop_est_df_T.index, pop_est_df_T.WA, fmt=\"D:\", color='black', label = 'WA')\n",
    "ax8.errorbar(pop_est_df_T.index, pop_est_df_T.ID, fmt=\"*:\", color='y', label = 'ID')\n",
    "\n",
    "ax8.legend(loc=\"best\")\n",
    "# ax8.set_xlim(2014, 2019)\n",
    "# ax8.set_ylim(400, 1500)\n",
    "ax8.set_title(\"Population of top 5 states on Lost Bee Colonies from 2015-2018\")\n",
    "ax8.set_xlabel(\"Year\")\n",
    "ax8.set_ylabel(\"Estimated Population\")\n",
    "ax8.grid()\n",
    "\n",
    "\n",
    "# Save the Figure\n",
    "plt.savefig('Population of top 5 states on Lost Bee Colonies.png')\n",
    "\n",
    "plt.show()"
   ]
  },
  {
   "cell_type": "code",
   "execution_count": 49,
   "metadata": {},
   "outputs": [
    {
     "data": {
      "text/html": [
       "<div>\n",
       "<style scoped>\n",
       "    .dataframe tbody tr th:only-of-type {\n",
       "        vertical-align: middle;\n",
       "    }\n",
       "\n",
       "    .dataframe tbody tr th {\n",
       "        vertical-align: top;\n",
       "    }\n",
       "\n",
       "    .dataframe thead th {\n",
       "        text-align: right;\n",
       "    }\n",
       "</style>\n",
       "<table border=\"1\" class=\"dataframe\">\n",
       "  <thead>\n",
       "    <tr style=\"text-align: right;\">\n",
       "      <th></th>\n",
       "      <th>State_Abb</th>\n",
       "      <th>State</th>\n",
       "    </tr>\n",
       "  </thead>\n",
       "  <tbody>\n",
       "    <tr>\n",
       "      <th>0</th>\n",
       "      <td>AL</td>\n",
       "      <td>Alabama</td>\n",
       "    </tr>\n",
       "    <tr>\n",
       "      <th>1</th>\n",
       "      <td>AK</td>\n",
       "      <td>Alaska</td>\n",
       "    </tr>\n",
       "    <tr>\n",
       "      <th>2</th>\n",
       "      <td>AZ</td>\n",
       "      <td>Arizona</td>\n",
       "    </tr>\n",
       "    <tr>\n",
       "      <th>3</th>\n",
       "      <td>AR</td>\n",
       "      <td>Arkansas</td>\n",
       "    </tr>\n",
       "    <tr>\n",
       "      <th>4</th>\n",
       "      <td>CA</td>\n",
       "      <td>California</td>\n",
       "    </tr>\n",
       "  </tbody>\n",
       "</table>\n",
       "</div>"
      ],
      "text/plain": [
       "  State_Abb       State\n",
       "0        AL     Alabama\n",
       "1        AK      Alaska\n",
       "2        AZ     Arizona\n",
       "3        AR    Arkansas\n",
       "4        CA  California"
      ]
     },
     "execution_count": 49,
     "metadata": {},
     "output_type": "execute_result"
    }
   ],
   "source": [
    "#get the abbreviation of the states\n",
    "pop_density_df = pd.merge(abbr_name_df, pop_density_df, on='State')\n",
    "pop_density_df.head()"
   ]
  },
  {
   "cell_type": "code",
   "execution_count": 53,
   "metadata": {},
   "outputs": [
    {
     "ename": "KeyError",
     "evalue": "\"None of [Index(['POPESTIMATE2015', 'POPESTIMATE2016', 'POPESTIMATE2017',\\n       'POPESTIMATE2018'],\\n      dtype='object')] are in the [columns]\"",
     "output_type": "error",
     "traceback": [
      "\u001b[0;31m---------------------------------------------------------------------------\u001b[0m",
      "\u001b[0;31mKeyError\u001b[0m                                  Traceback (most recent call last)",
      "\u001b[0;32m<ipython-input-53-9fe7908f1b61>\u001b[0m in \u001b[0;36m<module>\u001b[0;34m\u001b[0m\n\u001b[1;32m      1\u001b[0m pop_density_values = pop_est_df[['POPESTIMATE2015','POPESTIMATE2016',\n\u001b[0;32m----> 2\u001b[0;31m                                  'POPESTIMATE2017', 'POPESTIMATE2018']].div(land_area_df.Value,axis=0)\n\u001b[0m",
      "\u001b[0;32m//anaconda3/lib/python3.7/site-packages/pandas/core/frame.py\u001b[0m in \u001b[0;36m__getitem__\u001b[0;34m(self, key)\u001b[0m\n\u001b[1;32m   2979\u001b[0m             \u001b[0;32mif\u001b[0m \u001b[0mis_iterator\u001b[0m\u001b[0;34m(\u001b[0m\u001b[0mkey\u001b[0m\u001b[0;34m)\u001b[0m\u001b[0;34m:\u001b[0m\u001b[0;34m\u001b[0m\u001b[0;34m\u001b[0m\u001b[0m\n\u001b[1;32m   2980\u001b[0m                 \u001b[0mkey\u001b[0m \u001b[0;34m=\u001b[0m \u001b[0mlist\u001b[0m\u001b[0;34m(\u001b[0m\u001b[0mkey\u001b[0m\u001b[0;34m)\u001b[0m\u001b[0;34m\u001b[0m\u001b[0;34m\u001b[0m\u001b[0m\n\u001b[0;32m-> 2981\u001b[0;31m             \u001b[0mindexer\u001b[0m \u001b[0;34m=\u001b[0m \u001b[0mself\u001b[0m\u001b[0;34m.\u001b[0m\u001b[0mloc\u001b[0m\u001b[0;34m.\u001b[0m\u001b[0m_convert_to_indexer\u001b[0m\u001b[0;34m(\u001b[0m\u001b[0mkey\u001b[0m\u001b[0;34m,\u001b[0m \u001b[0maxis\u001b[0m\u001b[0;34m=\u001b[0m\u001b[0;36m1\u001b[0m\u001b[0;34m,\u001b[0m \u001b[0mraise_missing\u001b[0m\u001b[0;34m=\u001b[0m\u001b[0;32mTrue\u001b[0m\u001b[0;34m)\u001b[0m\u001b[0;34m\u001b[0m\u001b[0;34m\u001b[0m\u001b[0m\n\u001b[0m\u001b[1;32m   2982\u001b[0m \u001b[0;34m\u001b[0m\u001b[0m\n\u001b[1;32m   2983\u001b[0m         \u001b[0;31m# take() does not accept boolean indexers\u001b[0m\u001b[0;34m\u001b[0m\u001b[0;34m\u001b[0m\u001b[0;34m\u001b[0m\u001b[0m\n",
      "\u001b[0;32m//anaconda3/lib/python3.7/site-packages/pandas/core/indexing.py\u001b[0m in \u001b[0;36m_convert_to_indexer\u001b[0;34m(self, obj, axis, is_setter, raise_missing)\u001b[0m\n\u001b[1;32m   1269\u001b[0m                 \u001b[0;31m# When setting, missing keys are not allowed, even with .loc:\u001b[0m\u001b[0;34m\u001b[0m\u001b[0;34m\u001b[0m\u001b[0;34m\u001b[0m\u001b[0m\n\u001b[1;32m   1270\u001b[0m                 \u001b[0mkwargs\u001b[0m \u001b[0;34m=\u001b[0m \u001b[0;34m{\u001b[0m\u001b[0;34m\"raise_missing\"\u001b[0m\u001b[0;34m:\u001b[0m \u001b[0;32mTrue\u001b[0m \u001b[0;32mif\u001b[0m \u001b[0mis_setter\u001b[0m \u001b[0;32melse\u001b[0m \u001b[0mraise_missing\u001b[0m\u001b[0;34m}\u001b[0m\u001b[0;34m\u001b[0m\u001b[0;34m\u001b[0m\u001b[0m\n\u001b[0;32m-> 1271\u001b[0;31m                 \u001b[0;32mreturn\u001b[0m \u001b[0mself\u001b[0m\u001b[0;34m.\u001b[0m\u001b[0m_get_listlike_indexer\u001b[0m\u001b[0;34m(\u001b[0m\u001b[0mobj\u001b[0m\u001b[0;34m,\u001b[0m \u001b[0maxis\u001b[0m\u001b[0;34m,\u001b[0m \u001b[0;34m**\u001b[0m\u001b[0mkwargs\u001b[0m\u001b[0;34m)\u001b[0m\u001b[0;34m[\u001b[0m\u001b[0;36m1\u001b[0m\u001b[0;34m]\u001b[0m\u001b[0;34m\u001b[0m\u001b[0;34m\u001b[0m\u001b[0m\n\u001b[0m\u001b[1;32m   1272\u001b[0m         \u001b[0;32melse\u001b[0m\u001b[0;34m:\u001b[0m\u001b[0;34m\u001b[0m\u001b[0;34m\u001b[0m\u001b[0m\n\u001b[1;32m   1273\u001b[0m             \u001b[0;32mtry\u001b[0m\u001b[0;34m:\u001b[0m\u001b[0;34m\u001b[0m\u001b[0;34m\u001b[0m\u001b[0m\n",
      "\u001b[0;32m//anaconda3/lib/python3.7/site-packages/pandas/core/indexing.py\u001b[0m in \u001b[0;36m_get_listlike_indexer\u001b[0;34m(self, key, axis, raise_missing)\u001b[0m\n\u001b[1;32m   1076\u001b[0m \u001b[0;34m\u001b[0m\u001b[0m\n\u001b[1;32m   1077\u001b[0m         self._validate_read_indexer(\n\u001b[0;32m-> 1078\u001b[0;31m             \u001b[0mkeyarr\u001b[0m\u001b[0;34m,\u001b[0m \u001b[0mindexer\u001b[0m\u001b[0;34m,\u001b[0m \u001b[0mo\u001b[0m\u001b[0;34m.\u001b[0m\u001b[0m_get_axis_number\u001b[0m\u001b[0;34m(\u001b[0m\u001b[0maxis\u001b[0m\u001b[0;34m)\u001b[0m\u001b[0;34m,\u001b[0m \u001b[0mraise_missing\u001b[0m\u001b[0;34m=\u001b[0m\u001b[0mraise_missing\u001b[0m\u001b[0;34m\u001b[0m\u001b[0;34m\u001b[0m\u001b[0m\n\u001b[0m\u001b[1;32m   1079\u001b[0m         )\n\u001b[1;32m   1080\u001b[0m         \u001b[0;32mreturn\u001b[0m \u001b[0mkeyarr\u001b[0m\u001b[0;34m,\u001b[0m \u001b[0mindexer\u001b[0m\u001b[0;34m\u001b[0m\u001b[0;34m\u001b[0m\u001b[0m\n",
      "\u001b[0;32m//anaconda3/lib/python3.7/site-packages/pandas/core/indexing.py\u001b[0m in \u001b[0;36m_validate_read_indexer\u001b[0;34m(self, key, indexer, axis, raise_missing)\u001b[0m\n\u001b[1;32m   1161\u001b[0m                 raise KeyError(\n\u001b[1;32m   1162\u001b[0m                     \"None of [{key}] are in the [{axis}]\".format(\n\u001b[0;32m-> 1163\u001b[0;31m                         \u001b[0mkey\u001b[0m\u001b[0;34m=\u001b[0m\u001b[0mkey\u001b[0m\u001b[0;34m,\u001b[0m \u001b[0maxis\u001b[0m\u001b[0;34m=\u001b[0m\u001b[0mself\u001b[0m\u001b[0;34m.\u001b[0m\u001b[0mobj\u001b[0m\u001b[0;34m.\u001b[0m\u001b[0m_get_axis_name\u001b[0m\u001b[0;34m(\u001b[0m\u001b[0maxis\u001b[0m\u001b[0;34m)\u001b[0m\u001b[0;34m\u001b[0m\u001b[0;34m\u001b[0m\u001b[0m\n\u001b[0m\u001b[1;32m   1164\u001b[0m                     )\n\u001b[1;32m   1165\u001b[0m                 )\n",
      "\u001b[0;31mKeyError\u001b[0m: \"None of [Index(['POPESTIMATE2015', 'POPESTIMATE2016', 'POPESTIMATE2017',\\n       'POPESTIMATE2018'],\\n      dtype='object')] are in the [columns]\""
     ]
    }
   ],
   "source": [
    "pop_density_values = pop_est_df[['POPESTIMATE2015','POPESTIMATE2016',\n",
    "                                 'POPESTIMATE2017', 'POPESTIMATE2018']].div(land_area_df.Value,axis=0)"
   ]
  },
  {
   "cell_type": "code",
   "execution_count": 54,
   "metadata": {},
   "outputs": [
    {
     "ename": "NameError",
     "evalue": "name 'pop_density_values' is not defined",
     "output_type": "error",
     "traceback": [
      "\u001b[0;31m---------------------------------------------------------------------------\u001b[0m",
      "\u001b[0;31mNameError\u001b[0m                                 Traceback (most recent call last)",
      "\u001b[0;32m<ipython-input-54-22dc4df891cd>\u001b[0m in \u001b[0;36m<module>\u001b[0;34m\u001b[0m\n\u001b[0;32m----> 1\u001b[0;31m \u001b[0mpop_density_df\u001b[0m \u001b[0;34m=\u001b[0m \u001b[0mpop_density_df\u001b[0m\u001b[0;34m.\u001b[0m\u001b[0mjoin\u001b[0m\u001b[0;34m(\u001b[0m\u001b[0mpop_density_values\u001b[0m\u001b[0;34m)\u001b[0m\u001b[0;34m\u001b[0m\u001b[0;34m\u001b[0m\u001b[0m\n\u001b[0m\u001b[1;32m      2\u001b[0m \u001b[0mpop_density_df\u001b[0m\u001b[0;34m.\u001b[0m\u001b[0mhead\u001b[0m\u001b[0;34m(\u001b[0m\u001b[0;34m)\u001b[0m\u001b[0;34m\u001b[0m\u001b[0;34m\u001b[0m\u001b[0m\n",
      "\u001b[0;31mNameError\u001b[0m: name 'pop_density_values' is not defined"
     ]
    }
   ],
   "source": [
    "pop_density_df = pop_density_df.join(pop_density_values)\n",
    "pop_density_df.head()"
   ]
  },
  {
   "cell_type": "code",
   "execution_count": 55,
   "metadata": {},
   "outputs": [],
   "source": [
    "pop_density_df = pop_density_df.rename(columns={'POPESTIMATE2015':2015,\n",
    "                                                'POPESTIMATE2016':2016,\n",
    "                                                'POPESTIMATE2017':2017,\n",
    "                                                'POPESTIMATE2018':2018})"
   ]
  },
  {
   "cell_type": "code",
   "execution_count": 56,
   "metadata": {},
   "outputs": [
    {
     "data": {
      "text/html": [
       "<div>\n",
       "<style scoped>\n",
       "    .dataframe tbody tr th:only-of-type {\n",
       "        vertical-align: middle;\n",
       "    }\n",
       "\n",
       "    .dataframe tbody tr th {\n",
       "        vertical-align: top;\n",
       "    }\n",
       "\n",
       "    .dataframe thead th {\n",
       "        text-align: right;\n",
       "    }\n",
       "</style>\n",
       "<table border=\"1\" class=\"dataframe\">\n",
       "  <thead>\n",
       "    <tr style=\"text-align: right;\">\n",
       "      <th></th>\n",
       "      <th>State_Abb</th>\n",
       "      <th>Mean</th>\n",
       "    </tr>\n",
       "  </thead>\n",
       "  <tbody>\n",
       "    <tr>\n",
       "      <th>0</th>\n",
       "      <td>AL</td>\n",
       "      <td>NaN</td>\n",
       "    </tr>\n",
       "    <tr>\n",
       "      <th>1</th>\n",
       "      <td>AK</td>\n",
       "      <td>NaN</td>\n",
       "    </tr>\n",
       "    <tr>\n",
       "      <th>2</th>\n",
       "      <td>AZ</td>\n",
       "      <td>NaN</td>\n",
       "    </tr>\n",
       "    <tr>\n",
       "      <th>3</th>\n",
       "      <td>AR</td>\n",
       "      <td>NaN</td>\n",
       "    </tr>\n",
       "    <tr>\n",
       "      <th>4</th>\n",
       "      <td>CA</td>\n",
       "      <td>NaN</td>\n",
       "    </tr>\n",
       "  </tbody>\n",
       "</table>\n",
       "</div>"
      ],
      "text/plain": [
       "  State_Abb  Mean\n",
       "0        AL   NaN\n",
       "1        AK   NaN\n",
       "2        AZ   NaN\n",
       "3        AR   NaN\n",
       "4        CA   NaN"
      ]
     },
     "execution_count": 56,
     "metadata": {},
     "output_type": "execute_result"
    }
   ],
   "source": [
    "pop_density_df['Mean']= pop_density_df.mean(axis=1)\n",
    "\n",
    "pop_density_df = pop_density_df.drop(['State'], axis =1)\n",
    "pop_density_df.head()"
   ]
  },
  {
   "cell_type": "code",
   "execution_count": 57,
   "metadata": {
    "scrolled": false
   },
   "outputs": [
    {
     "data": {
      "text/html": [
       "<div>\n",
       "<style scoped>\n",
       "    .dataframe tbody tr th:only-of-type {\n",
       "        vertical-align: middle;\n",
       "    }\n",
       "\n",
       "    .dataframe tbody tr th {\n",
       "        vertical-align: top;\n",
       "    }\n",
       "\n",
       "    .dataframe thead th {\n",
       "        text-align: right;\n",
       "    }\n",
       "</style>\n",
       "<table border=\"1\" class=\"dataframe\">\n",
       "  <thead>\n",
       "    <tr style=\"text-align: right;\">\n",
       "      <th>State_Abb</th>\n",
       "      <th>AL</th>\n",
       "      <th>AK</th>\n",
       "      <th>AZ</th>\n",
       "      <th>AR</th>\n",
       "      <th>CA</th>\n",
       "      <th>CO</th>\n",
       "      <th>CT</th>\n",
       "      <th>DE</th>\n",
       "      <th>FL</th>\n",
       "      <th>GA</th>\n",
       "      <th>...</th>\n",
       "      <th>SD</th>\n",
       "      <th>TN</th>\n",
       "      <th>TX</th>\n",
       "      <th>UT</th>\n",
       "      <th>VT</th>\n",
       "      <th>VA</th>\n",
       "      <th>WA</th>\n",
       "      <th>WV</th>\n",
       "      <th>WI</th>\n",
       "      <th>WY</th>\n",
       "    </tr>\n",
       "  </thead>\n",
       "  <tbody>\n",
       "  </tbody>\n",
       "</table>\n",
       "<p>0 rows × 50 columns</p>\n",
       "</div>"
      ],
      "text/plain": [
       "Empty DataFrame\n",
       "Columns: [AL, AK, AZ, AR, CA, CO, CT, DE, FL, GA, HI, ID, IL, IN, IA, KS, KY, LA, ME, MD, MA, MI, MN, MS, MO, MT, NE, NV, NH, NJ, NM, NY, NC, ND, OH, OK, OR, PA, RI, SC, SD, TN, TX, UT, VT, VA, WA, WV, WI, WY]\n",
       "Index: []\n",
       "\n",
       "[0 rows x 50 columns]"
      ]
     },
     "execution_count": 57,
     "metadata": {},
     "output_type": "execute_result"
    }
   ],
   "source": [
    "pop_density_df2 = pop_density_df.drop(['Mean'], axis =1)\n",
    "pop_density_df2= pop_density_df2.set_index('State_Abb')\n",
    "pop_density_df_T = pop_density_df2.T\n",
    "pop_density_df_T.head()"
   ]
  },
  {
   "cell_type": "code",
   "execution_count": 58,
   "metadata": {},
   "outputs": [
    {
     "data": {
      "text/html": [
       "<div>\n",
       "<style scoped>\n",
       "    .dataframe tbody tr th:only-of-type {\n",
       "        vertical-align: middle;\n",
       "    }\n",
       "\n",
       "    .dataframe tbody tr th {\n",
       "        vertical-align: top;\n",
       "    }\n",
       "\n",
       "    .dataframe thead th {\n",
       "        text-align: right;\n",
       "    }\n",
       "</style>\n",
       "<table border=\"1\" class=\"dataframe\">\n",
       "  <thead>\n",
       "    <tr style=\"text-align: right;\">\n",
       "      <th></th>\n",
       "      <th>Pop_Den_Mean</th>\n",
       "    </tr>\n",
       "    <tr>\n",
       "      <th>State_Abb</th>\n",
       "      <th></th>\n",
       "    </tr>\n",
       "  </thead>\n",
       "  <tbody>\n",
       "    <tr>\n",
       "      <th>AL</th>\n",
       "      <td>NaN</td>\n",
       "    </tr>\n",
       "    <tr>\n",
       "      <th>AK</th>\n",
       "      <td>NaN</td>\n",
       "    </tr>\n",
       "    <tr>\n",
       "      <th>AZ</th>\n",
       "      <td>NaN</td>\n",
       "    </tr>\n",
       "    <tr>\n",
       "      <th>AR</th>\n",
       "      <td>NaN</td>\n",
       "    </tr>\n",
       "    <tr>\n",
       "      <th>CA</th>\n",
       "      <td>NaN</td>\n",
       "    </tr>\n",
       "  </tbody>\n",
       "</table>\n",
       "</div>"
      ],
      "text/plain": [
       "           Pop_Den_Mean\n",
       "State_Abb              \n",
       "AL                  NaN\n",
       "AK                  NaN\n",
       "AZ                  NaN\n",
       "AR                  NaN\n",
       "CA                  NaN"
      ]
     },
     "execution_count": 58,
     "metadata": {},
     "output_type": "execute_result"
    }
   ],
   "source": [
    "States_popDensity_means=pop_density_df_T.mean()\n",
    "States_popDensity_means_df=pd.DataFrame(States_popDensity_means)\n",
    "States_popDensity_means_df = States_popDensity_means_df.rename(columns={0:\"Pop_Den_Mean\"})\n",
    "States_popDensity_means_df = States_popDensity_means_df.sort_values(by=[\"Pop_Den_Mean\"], ascending=False)\n",
    "States_popDensity_Top5means_df = States_popDensity_means_df.head(5)\n",
    "States_popDensity_Top5means_df"
   ]
  },
  {
   "cell_type": "code",
   "execution_count": 59,
   "metadata": {},
   "outputs": [
    {
     "ename": "TypeError",
     "evalue": "no numeric data to plot",
     "output_type": "error",
     "traceback": [
      "\u001b[0;31m---------------------------------------------------------------------------\u001b[0m",
      "\u001b[0;31mTypeError\u001b[0m                                 Traceback (most recent call last)",
      "\u001b[0;32m<ipython-input-59-21708180fc9f>\u001b[0m in \u001b[0;36m<module>\u001b[0;34m\u001b[0m\n\u001b[0;32m----> 1\u001b[0;31m \u001b[0mpop_density_df_T\u001b[0m\u001b[0;34m[\u001b[0m\u001b[0;34m'NJ'\u001b[0m\u001b[0;34m]\u001b[0m\u001b[0;34m.\u001b[0m\u001b[0mplot\u001b[0m\u001b[0;34m(\u001b[0m\u001b[0mlegend\u001b[0m\u001b[0;34m=\u001b[0m\u001b[0;32mTrue\u001b[0m\u001b[0;34m)\u001b[0m\u001b[0;34m\u001b[0m\u001b[0;34m\u001b[0m\u001b[0m\n\u001b[0m\u001b[1;32m      2\u001b[0m \u001b[0mpop_density_df_T\u001b[0m\u001b[0;34m[\u001b[0m\u001b[0;34m'RI'\u001b[0m\u001b[0;34m]\u001b[0m\u001b[0;34m.\u001b[0m\u001b[0mplot\u001b[0m\u001b[0;34m(\u001b[0m\u001b[0mlegend\u001b[0m\u001b[0;34m=\u001b[0m\u001b[0;32mTrue\u001b[0m\u001b[0;34m)\u001b[0m\u001b[0;34m\u001b[0m\u001b[0;34m\u001b[0m\u001b[0m\n\u001b[1;32m      3\u001b[0m \u001b[0mpop_density_df_T\u001b[0m\u001b[0;34m[\u001b[0m\u001b[0;34m'MA'\u001b[0m\u001b[0;34m]\u001b[0m\u001b[0;34m.\u001b[0m\u001b[0mplot\u001b[0m\u001b[0;34m(\u001b[0m\u001b[0mlegend\u001b[0m\u001b[0;34m=\u001b[0m\u001b[0;32mTrue\u001b[0m\u001b[0;34m)\u001b[0m\u001b[0;34m\u001b[0m\u001b[0;34m\u001b[0m\u001b[0m\n\u001b[1;32m      4\u001b[0m \u001b[0mpop_density_df_T\u001b[0m\u001b[0;34m[\u001b[0m\u001b[0;34m'CT'\u001b[0m\u001b[0;34m]\u001b[0m\u001b[0;34m.\u001b[0m\u001b[0mplot\u001b[0m\u001b[0;34m(\u001b[0m\u001b[0mlegend\u001b[0m\u001b[0;34m=\u001b[0m\u001b[0;32mTrue\u001b[0m\u001b[0;34m)\u001b[0m\u001b[0;34m\u001b[0m\u001b[0;34m\u001b[0m\u001b[0m\n\u001b[1;32m      5\u001b[0m \u001b[0mpop_density_df_T\u001b[0m\u001b[0;34m[\u001b[0m\u001b[0;34m'MD'\u001b[0m\u001b[0;34m]\u001b[0m\u001b[0;34m.\u001b[0m\u001b[0mplot\u001b[0m\u001b[0;34m(\u001b[0m\u001b[0mlegend\u001b[0m\u001b[0;34m=\u001b[0m\u001b[0;32mTrue\u001b[0m\u001b[0;34m)\u001b[0m\u001b[0;34m\u001b[0m\u001b[0;34m\u001b[0m\u001b[0m\n",
      "\u001b[0;32m//anaconda3/lib/python3.7/site-packages/pandas/plotting/_core.py\u001b[0m in \u001b[0;36m__call__\u001b[0;34m(self, *args, **kwargs)\u001b[0m\n\u001b[1;32m    792\u001b[0m                     \u001b[0mdata\u001b[0m\u001b[0;34m.\u001b[0m\u001b[0mcolumns\u001b[0m \u001b[0;34m=\u001b[0m \u001b[0mlabel_name\u001b[0m\u001b[0;34m\u001b[0m\u001b[0;34m\u001b[0m\u001b[0m\n\u001b[1;32m    793\u001b[0m \u001b[0;34m\u001b[0m\u001b[0m\n\u001b[0;32m--> 794\u001b[0;31m         \u001b[0;32mreturn\u001b[0m \u001b[0mplot_backend\u001b[0m\u001b[0;34m.\u001b[0m\u001b[0mplot\u001b[0m\u001b[0;34m(\u001b[0m\u001b[0mdata\u001b[0m\u001b[0;34m,\u001b[0m \u001b[0mkind\u001b[0m\u001b[0;34m=\u001b[0m\u001b[0mkind\u001b[0m\u001b[0;34m,\u001b[0m \u001b[0;34m**\u001b[0m\u001b[0mkwargs\u001b[0m\u001b[0;34m)\u001b[0m\u001b[0;34m\u001b[0m\u001b[0;34m\u001b[0m\u001b[0m\n\u001b[0m\u001b[1;32m    795\u001b[0m \u001b[0;34m\u001b[0m\u001b[0m\n\u001b[1;32m    796\u001b[0m     \u001b[0;32mdef\u001b[0m \u001b[0mline\u001b[0m\u001b[0;34m(\u001b[0m\u001b[0mself\u001b[0m\u001b[0;34m,\u001b[0m \u001b[0mx\u001b[0m\u001b[0;34m=\u001b[0m\u001b[0;32mNone\u001b[0m\u001b[0;34m,\u001b[0m \u001b[0my\u001b[0m\u001b[0;34m=\u001b[0m\u001b[0;32mNone\u001b[0m\u001b[0;34m,\u001b[0m \u001b[0;34m**\u001b[0m\u001b[0mkwargs\u001b[0m\u001b[0;34m)\u001b[0m\u001b[0;34m:\u001b[0m\u001b[0;34m\u001b[0m\u001b[0;34m\u001b[0m\u001b[0m\n",
      "\u001b[0;32m//anaconda3/lib/python3.7/site-packages/pandas/plotting/_matplotlib/__init__.py\u001b[0m in \u001b[0;36mplot\u001b[0;34m(data, kind, **kwargs)\u001b[0m\n\u001b[1;32m     60\u001b[0m             \u001b[0mkwargs\u001b[0m\u001b[0;34m[\u001b[0m\u001b[0;34m\"ax\"\u001b[0m\u001b[0;34m]\u001b[0m \u001b[0;34m=\u001b[0m \u001b[0mgetattr\u001b[0m\u001b[0;34m(\u001b[0m\u001b[0max\u001b[0m\u001b[0;34m,\u001b[0m \u001b[0;34m\"left_ax\"\u001b[0m\u001b[0;34m,\u001b[0m \u001b[0max\u001b[0m\u001b[0;34m)\u001b[0m\u001b[0;34m\u001b[0m\u001b[0;34m\u001b[0m\u001b[0m\n\u001b[1;32m     61\u001b[0m     \u001b[0mplot_obj\u001b[0m \u001b[0;34m=\u001b[0m \u001b[0mPLOT_CLASSES\u001b[0m\u001b[0;34m[\u001b[0m\u001b[0mkind\u001b[0m\u001b[0;34m]\u001b[0m\u001b[0;34m(\u001b[0m\u001b[0mdata\u001b[0m\u001b[0;34m,\u001b[0m \u001b[0;34m**\u001b[0m\u001b[0mkwargs\u001b[0m\u001b[0;34m)\u001b[0m\u001b[0;34m\u001b[0m\u001b[0;34m\u001b[0m\u001b[0m\n\u001b[0;32m---> 62\u001b[0;31m     \u001b[0mplot_obj\u001b[0m\u001b[0;34m.\u001b[0m\u001b[0mgenerate\u001b[0m\u001b[0;34m(\u001b[0m\u001b[0;34m)\u001b[0m\u001b[0;34m\u001b[0m\u001b[0;34m\u001b[0m\u001b[0m\n\u001b[0m\u001b[1;32m     63\u001b[0m     \u001b[0mplot_obj\u001b[0m\u001b[0;34m.\u001b[0m\u001b[0mdraw\u001b[0m\u001b[0;34m(\u001b[0m\u001b[0;34m)\u001b[0m\u001b[0;34m\u001b[0m\u001b[0;34m\u001b[0m\u001b[0m\n\u001b[1;32m     64\u001b[0m     \u001b[0;32mreturn\u001b[0m \u001b[0mplot_obj\u001b[0m\u001b[0;34m.\u001b[0m\u001b[0mresult\u001b[0m\u001b[0;34m\u001b[0m\u001b[0;34m\u001b[0m\u001b[0m\n",
      "\u001b[0;32m//anaconda3/lib/python3.7/site-packages/pandas/plotting/_matplotlib/core.py\u001b[0m in \u001b[0;36mgenerate\u001b[0;34m(self)\u001b[0m\n\u001b[1;32m    277\u001b[0m     \u001b[0;32mdef\u001b[0m \u001b[0mgenerate\u001b[0m\u001b[0;34m(\u001b[0m\u001b[0mself\u001b[0m\u001b[0;34m)\u001b[0m\u001b[0;34m:\u001b[0m\u001b[0;34m\u001b[0m\u001b[0;34m\u001b[0m\u001b[0m\n\u001b[1;32m    278\u001b[0m         \u001b[0mself\u001b[0m\u001b[0;34m.\u001b[0m\u001b[0m_args_adjust\u001b[0m\u001b[0;34m(\u001b[0m\u001b[0;34m)\u001b[0m\u001b[0;34m\u001b[0m\u001b[0;34m\u001b[0m\u001b[0m\n\u001b[0;32m--> 279\u001b[0;31m         \u001b[0mself\u001b[0m\u001b[0;34m.\u001b[0m\u001b[0m_compute_plot_data\u001b[0m\u001b[0;34m(\u001b[0m\u001b[0;34m)\u001b[0m\u001b[0;34m\u001b[0m\u001b[0;34m\u001b[0m\u001b[0m\n\u001b[0m\u001b[1;32m    280\u001b[0m         \u001b[0mself\u001b[0m\u001b[0;34m.\u001b[0m\u001b[0m_setup_subplots\u001b[0m\u001b[0;34m(\u001b[0m\u001b[0;34m)\u001b[0m\u001b[0;34m\u001b[0m\u001b[0;34m\u001b[0m\u001b[0m\n\u001b[1;32m    281\u001b[0m         \u001b[0mself\u001b[0m\u001b[0;34m.\u001b[0m\u001b[0m_make_plot\u001b[0m\u001b[0;34m(\u001b[0m\u001b[0;34m)\u001b[0m\u001b[0;34m\u001b[0m\u001b[0;34m\u001b[0m\u001b[0m\n",
      "\u001b[0;32m//anaconda3/lib/python3.7/site-packages/pandas/plotting/_matplotlib/core.py\u001b[0m in \u001b[0;36m_compute_plot_data\u001b[0;34m(self)\u001b[0m\n\u001b[1;32m    412\u001b[0m         \u001b[0;31m# no non-numeric frames or series allowed\u001b[0m\u001b[0;34m\u001b[0m\u001b[0;34m\u001b[0m\u001b[0;34m\u001b[0m\u001b[0m\n\u001b[1;32m    413\u001b[0m         \u001b[0;32mif\u001b[0m \u001b[0mis_empty\u001b[0m\u001b[0;34m:\u001b[0m\u001b[0;34m\u001b[0m\u001b[0;34m\u001b[0m\u001b[0m\n\u001b[0;32m--> 414\u001b[0;31m             \u001b[0;32mraise\u001b[0m \u001b[0mTypeError\u001b[0m\u001b[0;34m(\u001b[0m\u001b[0;34m\"no numeric data to plot\"\u001b[0m\u001b[0;34m)\u001b[0m\u001b[0;34m\u001b[0m\u001b[0;34m\u001b[0m\u001b[0m\n\u001b[0m\u001b[1;32m    415\u001b[0m \u001b[0;34m\u001b[0m\u001b[0m\n\u001b[1;32m    416\u001b[0m         \u001b[0;31m# GH25587: cast ExtensionArray of pandas (IntegerArray, etc.) to\u001b[0m\u001b[0;34m\u001b[0m\u001b[0;34m\u001b[0m\u001b[0;34m\u001b[0m\u001b[0m\n",
      "\u001b[0;31mTypeError\u001b[0m: no numeric data to plot"
     ]
    }
   ],
   "source": [
    "pop_density_df_T['NJ'].plot(legend=True)\n",
    "pop_density_df_T['RI'].plot(legend=True)\n",
    "pop_density_df_T['MA'].plot(legend=True)\n",
    "pop_density_df_T['CT'].plot(legend=True)\n",
    "pop_density_df_T['MD'].plot(legend=True)\n",
    "\n",
    "# Set a Title and labels\n",
    "plt.title(\"Top 5 States on Population Density from 2015-2018\")\n",
    "plt.xlabel(\"Year\")\n",
    "plt.ylabel(\"Population Density (per square mile)\")\n",
    "\n",
    "plt.savefig('Top 5 States on Mean Population Density Line.png')\n",
    "\n",
    "plt.grid()\n",
    "plt.show()"
   ]
  },
  {
   "cell_type": "code",
   "execution_count": 60,
   "metadata": {},
   "outputs": [
    {
     "ename": "NameError",
     "evalue": "name 'bees_lost_colonies_df_T' is not defined",
     "output_type": "error",
     "traceback": [
      "\u001b[0;31m---------------------------------------------------------------------------\u001b[0m",
      "\u001b[0;31mNameError\u001b[0m                                 Traceback (most recent call last)",
      "\u001b[0;32m<ipython-input-60-03a38c24e3ad>\u001b[0m in \u001b[0;36m<module>\u001b[0;34m\u001b[0m\n\u001b[0;32m----> 1\u001b[0;31m \u001b[0mbees_lost_colonies_df_T\u001b[0m\u001b[0;34m[\u001b[0m\u001b[0;34m'NJ'\u001b[0m\u001b[0;34m]\u001b[0m\u001b[0;34m.\u001b[0m\u001b[0mplot\u001b[0m\u001b[0;34m(\u001b[0m\u001b[0mlegend\u001b[0m\u001b[0;34m=\u001b[0m\u001b[0;32mTrue\u001b[0m\u001b[0;34m)\u001b[0m\u001b[0;34m\u001b[0m\u001b[0;34m\u001b[0m\u001b[0m\n\u001b[0m\u001b[1;32m      2\u001b[0m \u001b[0;31m# bees_lost_colonies_df_T['RI'].plot(legend=True)\u001b[0m\u001b[0;34m\u001b[0m\u001b[0;34m\u001b[0m\u001b[0;34m\u001b[0m\u001b[0m\n\u001b[1;32m      3\u001b[0m \u001b[0mbees_lost_colonies_df_T\u001b[0m\u001b[0;34m[\u001b[0m\u001b[0;34m'MA'\u001b[0m\u001b[0;34m]\u001b[0m\u001b[0;34m.\u001b[0m\u001b[0mplot\u001b[0m\u001b[0;34m(\u001b[0m\u001b[0mlegend\u001b[0m\u001b[0;34m=\u001b[0m\u001b[0;32mTrue\u001b[0m\u001b[0;34m)\u001b[0m\u001b[0;34m\u001b[0m\u001b[0;34m\u001b[0m\u001b[0m\n\u001b[1;32m      4\u001b[0m \u001b[0mbees_lost_colonies_df_T\u001b[0m\u001b[0;34m[\u001b[0m\u001b[0;34m'CT'\u001b[0m\u001b[0;34m]\u001b[0m\u001b[0;34m.\u001b[0m\u001b[0mplot\u001b[0m\u001b[0;34m(\u001b[0m\u001b[0mlegend\u001b[0m\u001b[0;34m=\u001b[0m\u001b[0;32mTrue\u001b[0m\u001b[0;34m)\u001b[0m\u001b[0;34m\u001b[0m\u001b[0;34m\u001b[0m\u001b[0m\n\u001b[1;32m      5\u001b[0m \u001b[0mbees_lost_colonies_df_T\u001b[0m\u001b[0;34m[\u001b[0m\u001b[0;34m'MD'\u001b[0m\u001b[0;34m]\u001b[0m\u001b[0;34m.\u001b[0m\u001b[0mplot\u001b[0m\u001b[0;34m(\u001b[0m\u001b[0mlegend\u001b[0m\u001b[0;34m=\u001b[0m\u001b[0;32mTrue\u001b[0m\u001b[0;34m)\u001b[0m\u001b[0;34m\u001b[0m\u001b[0;34m\u001b[0m\u001b[0m\n",
      "\u001b[0;31mNameError\u001b[0m: name 'bees_lost_colonies_df_T' is not defined"
     ]
    }
   ],
   "source": [
    "bees_lost_colonies_df_T['NJ'].plot(legend=True)\n",
    "# bees_lost_colonies_df_T['RI'].plot(legend=True)\n",
    "bees_lost_colonies_df_T['MA'].plot(legend=True)\n",
    "bees_lost_colonies_df_T['CT'].plot(legend=True)\n",
    "bees_lost_colonies_df_T['MD'].plot(legend=True)\n",
    "\n",
    "# Set a Title and labels\n",
    "plt.title(\"Lost Bee Colonies of Top 5 States on Population Densities from 2015-2018\")\n",
    "plt.xlabel(\"Year\")\n",
    "plt.ylabel(\"Lost Bee Colonies\")\n",
    "\n",
    "plt.savefig('Lost Bee Colonies of Top 5 States on Population Densities Line.png')\n",
    "\n",
    "plt.grid()\n",
    "plt.show()"
   ]
  },
  {
   "cell_type": "code",
   "execution_count": 61,
   "metadata": {},
   "outputs": [
    {
     "data": {
      "image/png": "[encoded data removed]",
      "text/plain": [
       "<Figure size 720x216 with 1 Axes>"
      ]
     },
     "metadata": {
      "needs_background": "light"
     },
     "output_type": "display_data"
    }
   ],
   "source": [
    "x_axis = np.arange(len(States_popDensity_Top5means_df))\n",
    "tick_locations = [value+0.4 for value in x_axis]\n",
    "\n",
    "plt.figure(figsize=(10,3))\n",
    "plt.bar(x_axis, States_popDensity_Top5means_df.Pop_Den_Mean, color='g', alpha=0.5, align=\"edge\")\n",
    "plt.xticks(tick_locations, States_popDensity_Top5means_df.index, rotation=\"horizontal\")\n",
    "\n",
    "# Set a Title and labels\n",
    "plt.title(\"Top 5 States on Mean Population Density from 2015-2018\")\n",
    "plt.xlabel(\"State\")\n",
    "plt.ylabel(\"Mean Population Density\")\n",
    "\n",
    "plt.savefig('Top 5 States on Mean Population Density Bar.png')\n",
    "\n",
    "plt.grid()"
   ]
  },
  {
   "cell_type": "code",
   "execution_count": null,
   "metadata": {},
   "outputs": [],
   "source": []
  },
  {
   "cell_type": "code",
   "execution_count": 62,
   "metadata": {},
   "outputs": [
    {
     "data": {
      "image/png": "[encoded data removed]",
      "text/plain": [
       "<Figure size 432x288 with 1 Axes>"
      ]
     },
     "metadata": {
      "needs_background": "light"
     },
     "output_type": "display_data"
    }
   ],
   "source": [
    "fig, ax3 = plt.subplots()\n",
    "#mouse count\n",
    "ax3.errorbar(pop_density_df_T.index, pop_density_df_T.NJ, fmt=\"o:\", color='r', label = 'NJ')\n",
    "ax3.errorbar(pop_density_df_T.index, pop_density_df_T.RI, fmt=\"^:\", color='b', label = 'RI')\n",
    "ax3.errorbar(pop_density_df_T.index, pop_density_df_T.MA, fmt=\"s:\", color='g', label = 'MA')\n",
    "ax3.errorbar(pop_density_df_T.index, pop_density_df_T.CT, fmt=\"D:\", color='black', label = 'CT')\n",
    "ax3.errorbar(pop_density_df_T.index, pop_density_df_T.MD, fmt=\"*:\", color='y', label = 'MD')\n",
    "\n",
    "ax3.legend(loc=\"best\")\n",
    "# ax3.set_xlim(2014, 2019)\n",
    "# ax3.set_ylim(400, 1500)\n",
    "ax3.set_title(\"Top 5 States on Population Density Growth from 2015-2018\")\n",
    "ax3.set_xlabel(\"Year\")\n",
    "ax3.set_ylabel(\"Pop Density (per square mile)\")\n",
    "ax3.grid()\n",
    "\n",
    "\n",
    "# Save the Figure\n",
    "plt.savefig('Top 5 States on Population Density Growth.png')\n",
    "\n",
    "plt.show()"
   ]
  },
  {
   "cell_type": "code",
   "execution_count": 63,
   "metadata": {},
   "outputs": [
    {
     "data": {
      "image/png": "[encoded data removed]",
      "text/plain": [
       "<Figure size 432x288 with 1 Axes>"
      ]
     },
     "metadata": {
      "needs_background": "light"
     },
     "output_type": "display_data"
    }
   ],
   "source": [
    "fig, ax5 = plt.subplots()\n",
    "#mouse count\n",
    "ax5.errorbar(pop_density_df_T.index, pop_density_df_T.CA, fmt=\"o:\", color='r', label = 'CA')\n",
    "ax5.errorbar(pop_density_df_T.index, pop_density_df_T.ND, fmt=\"^:\", color='b', label = 'ND')\n",
    "ax5.errorbar(pop_density_df_T.index, pop_density_df_T.TX, fmt=\"s:\", color='g', label = 'TX')\n",
    "ax5.errorbar(pop_density_df_T.index, pop_density_df_T.WA, fmt=\"D:\", color='black', label = 'WA')\n",
    "ax5.errorbar(pop_density_df_T.index, pop_density_df_T.ID, fmt=\"*:\", color='y', label = 'ID')\n",
    "\n",
    "ax5.legend(loc=\"best\")\n",
    "# ax5.set_xlim(2014, 2019)\n",
    "# ax5.set_ylim(400, 1500)\n",
    "ax5.set_title(\"Pop Densities of Top 5 States on Lost Bee Colonies from 2015-2018\")\n",
    "ax5.set_xlabel(\"Year\")\n",
    "ax5.set_ylabel(\"Pop Density (per square mile)\")\n",
    "ax5.grid()\n",
    "\n",
    "\n",
    "# Save the Figure\n",
    "plt.savefig('Population Densities of Top 5 States on Lost Bee Colonies plot.png')\n",
    "\n",
    "plt.show()"
   ]
  },
  {
   "cell_type": "code",
   "execution_count": 64,
   "metadata": {},
   "outputs": [
    {
     "ename": "NameError",
     "evalue": "name 'bees_lost_colonies_df_T' is not defined",
     "output_type": "error",
     "traceback": [
      "\u001b[0;31m---------------------------------------------------------------------------\u001b[0m",
      "\u001b[0;31mNameError\u001b[0m                                 Traceback (most recent call last)",
      "\u001b[0;32m<ipython-input-64-96e1b69db949>\u001b[0m in \u001b[0;36m<module>\u001b[0;34m\u001b[0m\n\u001b[1;32m      1\u001b[0m \u001b[0mfig\u001b[0m\u001b[0;34m,\u001b[0m \u001b[0max4\u001b[0m \u001b[0;34m=\u001b[0m \u001b[0mplt\u001b[0m\u001b[0;34m.\u001b[0m\u001b[0msubplots\u001b[0m\u001b[0;34m(\u001b[0m\u001b[0;34m)\u001b[0m\u001b[0;34m\u001b[0m\u001b[0;34m\u001b[0m\u001b[0m\n\u001b[1;32m      2\u001b[0m \u001b[0;31m#mouse count\u001b[0m\u001b[0;34m\u001b[0m\u001b[0;34m\u001b[0m\u001b[0;34m\u001b[0m\u001b[0m\n\u001b[0;32m----> 3\u001b[0;31m \u001b[0max4\u001b[0m\u001b[0;34m.\u001b[0m\u001b[0merrorbar\u001b[0m\u001b[0;34m(\u001b[0m\u001b[0mbees_lost_colonies_df_T\u001b[0m\u001b[0;34m.\u001b[0m\u001b[0mindex\u001b[0m\u001b[0;34m,\u001b[0m \u001b[0mbees_lost_colonies_df_T\u001b[0m\u001b[0;34m.\u001b[0m\u001b[0mCA\u001b[0m\u001b[0;34m,\u001b[0m \u001b[0mfmt\u001b[0m\u001b[0;34m=\u001b[0m\u001b[0;34m\"o:\"\u001b[0m\u001b[0;34m,\u001b[0m \u001b[0mcolor\u001b[0m\u001b[0;34m=\u001b[0m\u001b[0;34m'r'\u001b[0m\u001b[0;34m,\u001b[0m \u001b[0mlabel\u001b[0m \u001b[0;34m=\u001b[0m \u001b[0;34m'CA'\u001b[0m\u001b[0;34m)\u001b[0m\u001b[0;34m\u001b[0m\u001b[0;34m\u001b[0m\u001b[0m\n\u001b[0m\u001b[1;32m      4\u001b[0m \u001b[0max4\u001b[0m\u001b[0;34m.\u001b[0m\u001b[0merrorbar\u001b[0m\u001b[0;34m(\u001b[0m\u001b[0mbees_lost_colonies_df_T\u001b[0m\u001b[0;34m.\u001b[0m\u001b[0mindex\u001b[0m\u001b[0;34m,\u001b[0m \u001b[0mbees_lost_colonies_df_T\u001b[0m\u001b[0;34m.\u001b[0m\u001b[0mND\u001b[0m\u001b[0;34m,\u001b[0m \u001b[0mfmt\u001b[0m\u001b[0;34m=\u001b[0m\u001b[0;34m\"^:\"\u001b[0m\u001b[0;34m,\u001b[0m \u001b[0mcolor\u001b[0m\u001b[0;34m=\u001b[0m\u001b[0;34m'b'\u001b[0m\u001b[0;34m,\u001b[0m \u001b[0mlabel\u001b[0m \u001b[0;34m=\u001b[0m \u001b[0;34m'ND'\u001b[0m\u001b[0;34m)\u001b[0m\u001b[0;34m\u001b[0m\u001b[0;34m\u001b[0m\u001b[0m\n\u001b[1;32m      5\u001b[0m \u001b[0max4\u001b[0m\u001b[0;34m.\u001b[0m\u001b[0merrorbar\u001b[0m\u001b[0;34m(\u001b[0m\u001b[0mbees_lost_colonies_df_T\u001b[0m\u001b[0;34m.\u001b[0m\u001b[0mindex\u001b[0m\u001b[0;34m,\u001b[0m \u001b[0mbees_lost_colonies_df_T\u001b[0m\u001b[0;34m.\u001b[0m\u001b[0mTX\u001b[0m\u001b[0;34m,\u001b[0m \u001b[0mfmt\u001b[0m\u001b[0;34m=\u001b[0m\u001b[0;34m\"s:\"\u001b[0m\u001b[0;34m,\u001b[0m \u001b[0mcolor\u001b[0m\u001b[0;34m=\u001b[0m\u001b[0;34m'g'\u001b[0m\u001b[0;34m,\u001b[0m \u001b[0mlabel\u001b[0m \u001b[0;34m=\u001b[0m \u001b[0;34m'TX'\u001b[0m\u001b[0;34m)\u001b[0m\u001b[0;34m\u001b[0m\u001b[0;34m\u001b[0m\u001b[0m\n",
      "\u001b[0;31mNameError\u001b[0m: name 'bees_lost_colonies_df_T' is not defined"
     ]
    },
    {
     "data": {
      "image/png": "[encoded data removed]",
      "text/plain": [
       "<Figure size 432x288 with 1 Axes>"
      ]
     },
     "metadata": {
      "needs_background": "light"
     },
     "output_type": "display_data"
    }
   ],
   "source": [
    "fig, ax4 = plt.subplots()\n",
    "#mouse count\n",
    "ax4.errorbar(bees_lost_colonies_df_T.index, bees_lost_colonies_df_T.CA, fmt=\"o:\", color='r', label = 'CA')\n",
    "ax4.errorbar(bees_lost_colonies_df_T.index, bees_lost_colonies_df_T.ND, fmt=\"^:\", color='b', label = 'ND')\n",
    "ax4.errorbar(bees_lost_colonies_df_T.index, bees_lost_colonies_df_T.TX, fmt=\"s:\", color='g', label = 'TX')\n",
    "ax4.errorbar(bees_lost_colonies_df_T.index, bees_lost_colonies_df_T.WA, fmt=\"D:\", color='black', label = 'WA')\n",
    "ax4.errorbar(bees_lost_colonies_df_T.index, bees_lost_colonies_df_T.ID, fmt=\"*:\", color='y', label = 'ID')\n",
    "\n",
    "ax4.legend(loc=\"best\")\n",
    "# ax4.set_xlim(2014, 2019)\n",
    "# ax4.set_ylim(0, 150000)\n",
    "ax4.set_title(\"Top 5 States on Lost Bee Colonies from 2015-2019\")\n",
    "ax4.set_xlabel(\"Year\")\n",
    "ax4.set_ylabel(\"Lost Bee COlonies\")\n",
    "ax4.grid()\n",
    "\n",
    "\n",
    "# Save the Figure\n",
    "plt.savefig('Top 5 States on Lost Bee Colonies from 2015-2019.png')\n",
    "\n",
    "plt.show()"
   ]
  },
  {
   "cell_type": "code",
   "execution_count": null,
   "metadata": {},
   "outputs": [],
   "source": [
    "fig, ax6 = plt.subplots()\n",
    "#mouse count\n",
    "ax6.errorbar(bees_lost_colonies_df_T.index, bees_lost_colonies_df_T.NJ, fmt=\"o:\", color='r', label = 'NJ')\n",
    "# ax6.errorbar(bees_lost_colonies_df_T.index, bees_lost_colonies_df_T.RI, fmt=\"^:\", color='b', label = 'RI')\n",
    "ax6.errorbar(bees_lost_colonies_df_T.index, bees_lost_colonies_df_T.MA, fmt=\"s:\", color='g', label = 'MA')\n",
    "ax6.errorbar(bees_lost_colonies_df_T.index, bees_lost_colonies_df_T.CT, fmt=\"D:\", color='black', label = 'CT')\n",
    "ax6.errorbar(bees_lost_colonies_df_T.index, bees_lost_colonies_df_T.MD, fmt=\"*:\", color='y', label = 'MD')\n",
    "\n",
    "ax6.legend(loc=\"best\")\n",
    "# ax4.set_xlim(2014, 2019)\n",
    "# ax4.set_ylim(0, 150000)\n",
    "ax6.set_title(\"Lost Bee Colonies of Top 5 States based on Pop. Densities from 2015-2018\")\n",
    "ax6.set_xlabel(\"Year\")\n",
    "ax6.set_ylabel(\"Lost Bee Colonies\")\n",
    "ax6.grid()\n",
    "\n",
    "\n",
    "# Save the Figure\n",
    "plt.savefig('Lost Bee Colonies of Top 5 States on Population Densities plot.png')\n",
    "\n",
    "plt.show()"
   ]
  },
  {
   "cell_type": "code",
   "execution_count": null,
   "metadata": {},
   "outputs": [],
   "source": [
    "bees_df.head()"
   ]
  },
  {
   "cell_type": "code",
   "execution_count": null,
   "metadata": {},
   "outputs": [],
   "source": [
    "bees2015_df = bees_df[(bees_df['Year']==2015)]\n",
    "bees2015_df = bees2015_df.sort_values(by=[\"State\"]).reset_index(drop=True)\n",
    "\n",
    "bees2016_df = bees_df[(bees_df['Year']==2016)]\n",
    "bees2016_df = bees2016_df.sort_values(by=[\"State\"]).reset_index(drop=True)\n",
    "\n",
    "bees2017_df = bees_df[(bees_df['Year']==2017)]\n",
    "bees2017_df = bees2017_df.sort_values(by=[\"State\"]).reset_index(drop=True)\n",
    "\n",
    "bees2018_df = bees_df[(bees_df['Year']==2018)]\n",
    "bees2018_df = bees2018_df.sort_values(by=[\"State\"]).reset_index(drop=True)"
   ]
  },
  {
   "cell_type": "code",
   "execution_count": null,
   "metadata": {},
   "outputs": [],
   "source": [
    "bees2015_df = bees2015_df.drop(['Year', 'Lost_Unknown', 'Percent_loss'], axis=1)\n",
    "bees2016_df = bees2016_df.drop(['Year', 'Lost_Unknown', 'Percent_loss'], axis=1)\n",
    "bees2017_df = bees2017_df.drop(['Year', 'Lost_Unknown', 'Percent_loss'], axis=1)\n",
    "bees2018_df = bees2018_df.drop(['Year', 'Lost_Unknown', 'Percent_loss'], axis=1)"
   ]
  },
  {
   "cell_type": "code",
   "execution_count": null,
   "metadata": {},
   "outputs": [],
   "source": [
    "#creating dataframe of Bees_loss\n",
    "bees_colonies_df = pd.merge(bees2015_df, bees2016_df, on='State')\n",
    "bees_colonies_df = bees_colonies_df.rename(columns={\"Colonies_x\": \"Colonies_2015\",\n",
    "                                                    \"Lost_Colonies_x\": \"Lost_Colonies_2015\",\n",
    "                                                    \"Colonies_y\": \"Colonies_2016\",\n",
    "                                                   \"Lost_Colonies_y\": \"Lost_Colonies_2016\",})\n",
    "\n",
    "bees_colonies_df = pd.merge(bees_colonies_df, bees2017_df, on='State')\n",
    "bees_colonies_df = bees_colonies_df.rename(columns={\"Colonies\": \"Colonies_2017\",\n",
    "                                                    \"Lost_Colonies\": \"Lost_Colonies_2017\"})\n",
    "\n",
    "bees_colonies_df = pd.merge(bees_colonies_df, bees2018_df, on='State')\n",
    "bees_colonies_df = bees_colonies_df.rename(columns={\"Colonies\": \"Colonies_2018\",\n",
    "                                                    \"Lost_Colonies\": \"Lost_Colonies_2018\"})"
   ]
  },
  {
   "cell_type": "code",
   "execution_count": null,
   "metadata": {},
   "outputs": [],
   "source": [
    "bees_colonies_df.head()"
   ]
  },
  {
   "cell_type": "code",
   "execution_count": null,
   "metadata": {},
   "outputs": [],
   "source": [
    "bees_lost_colonies_df = pd.DataFrame()\n",
    "bees_lost_colonies_df['State'] = bees_colonies_df.State\n",
    "bees_lost_colonies_df['2015'] = bees_colonies_df.Lost_Colonies_2015\n",
    "bees_lost_colonies_df['2016'] = bees_colonies_df.Lost_Colonies_2016\n",
    "bees_lost_colonies_df['2017'] = bees_colonies_df.Lost_Colonies_2017\n",
    "bees_lost_colonies_df['2018'] = bees_colonies_df.Lost_Colonies_2018\n",
    "bees_lost_colonies_df.head()"
   ]
  },
  {
   "cell_type": "code",
   "execution_count": null,
   "metadata": {},
   "outputs": [],
   "source": [
    "bees_lost_colonies_df = pd.merge(abbr_name_df, bees_lost_colonies_df, on='State')\n",
    "bees_lost_colonies_df = bees_lost_colonies_df.drop(['State'], axis =1)\n",
    "bees_lost_colonies_df.head()"
   ]
  },
  {
   "cell_type": "code",
   "execution_count": null,
   "metadata": {},
   "outputs": [],
   "source": [
    "bees_lost_colonies_df2= bees_lost_colonies_df.set_index('State_Abb')\n",
    "bees_lost_colonies_df_T = bees_lost_colonies_df2.T\n",
    "bees_lost_colonies_df_T.head()"
   ]
  },
  {
   "cell_type": "code",
   "execution_count": null,
   "metadata": {},
   "outputs": [],
   "source": [
    "bees_lost_colonies_df_T.info()"
   ]
  },
  {
   "cell_type": "code",
   "execution_count": null,
   "metadata": {},
   "outputs": [],
   "source": [
    "bees_lost_colonies_sum=bees_lost_colonies_df_T.sum()\n",
    "bees_lost_colonies_sum_df=pd.DataFrame(bees_lost_colonies_sum)\n",
    "bees_lost_colonies_sum_df = bees_lost_colonies_sum_df.rename(columns={0:\"Total_Lost_Colonies\"})\n",
    "bees_lost_colonies_sum_df = bees_lost_colonies_sum_df.sort_values(by=[\"Total_Lost_Colonies\"], ascending=False)\n",
    "bees_lost_colonies_Top5sum_df = bees_lost_colonies_sum_df.head(5)\n",
    "bees_lost_colonies_Top5sum_df"
   ]
  },
  {
   "cell_type": "code",
   "execution_count": null,
   "metadata": {},
   "outputs": [],
   "source": [
    "x_axis = np.arange(len(bees_lost_colonies_Top5sum_df))\n",
    "tick_locations = [value+0.4 for value in x_axis]\n",
    "\n",
    "plt.figure(figsize=(10,3))\n",
    "plt.bar(x_axis, bees_lost_colonies_Top5sum_df.Total_Lost_Colonies, color='y', alpha=0.5, align=\"edge\")\n",
    "plt.xticks(tick_locations, bees_lost_colonies_Top5sum_df.index, rotation=\"horizontal\")\n",
    "\n",
    "# Set a Title and labels\n",
    "plt.title(\"Top 5 States on Bee Colonies Lost from 2015-2018\")\n",
    "plt.xlabel(\"State\")\n",
    "plt.ylabel(\"Total Bee Colonies Lost\")\n",
    "\n",
    "plt.savefig('Top 5 States on Bee Colonies Lost Bar.png')\n",
    "\n",
    "plt.grid()"
   ]
  },
  {
   "cell_type": "code",
   "execution_count": null,
   "metadata": {},
   "outputs": [],
   "source": [
    "bees_lost_colonies_df_T['CA'].plot(legend=True)\n",
    "bees_lost_colonies_df_T['ND'].plot(legend=True)\n",
    "bees_lost_colonies_df_T['TX'].plot(legend=True)\n",
    "bees_lost_colonies_df_T['WA'].plot(legend=True)\n",
    "bees_lost_colonies_df_T['ID'].plot(legend=True)\n",
    "\n",
    "# Set a Title and labels\n",
    "plt.title(\"Top 5 States on Lost Bee Colonies from 2015-2019\")\n",
    "plt.xlabel(\"Year\")\n",
    "plt.ylabel(\"Lost Bee Colonies\")\n",
    "\n",
    "plt.savefig('Top 5 States on Lost Bee Colonies Line.png')\n",
    "\n",
    "plt.grid()\n",
    "plt.show()"
   ]
  },
  {
   "cell_type": "code",
   "execution_count": null,
   "metadata": {},
   "outputs": [],
   "source": [
    "pop_density_df_T['CA'].plot(legend=True)\n",
    "pop_density_df_T['ND'].plot(legend=True)\n",
    "pop_density_df_T['TX'].plot(legend=True)\n",
    "pop_density_df_T['WA'].plot(legend=True)\n",
    "pop_density_df_T['ID'].plot(legend=True)\n",
    "\n",
    "# Set a Title and labels\n",
    "plt.title(\"Population Densities of Top 5 States on Lost Bee Colonies from 2015-2019\")\n",
    "plt.xlabel(\"Year\")\n",
    "plt.ylabel(\"Mean Population Density\")\n",
    "\n",
    "plt.savefig('Population Densities of Top 5 States on Lost Bee Colonies Line.png')\n",
    "\n",
    "plt.grid()\n",
    "plt.show()"
   ]
  },
  {
   "cell_type": "code",
   "execution_count": null,
   "metadata": {},
   "outputs": [],
   "source": [
    "bees_percent_loss_df['Mean']= bees_percent_loss_df.mean(axis=1)\n",
    "\n",
    "bees_percent_loss_df = pd.merge(bees_percent_loss_df, abbr_name_df, on='State')\n",
    "\n",
    "bees_percent_loss_df.head()"
   ]
  },
  {
   "cell_type": "code",
   "execution_count": null,
   "metadata": {},
   "outputs": [],
   "source": [
    "bees_percent_loss_df_sorted = bees_percent_loss_df.sort_values(by='Mean', ascending=False)\n",
    "\n",
    "bees_percent_loss_df_sorted"
   ]
  },
  {
   "cell_type": "code",
   "execution_count": null,
   "metadata": {},
   "outputs": [],
   "source": [
    "#population density with bees\n",
    "pop_and_bees_df = pd.merge(bees_percent_loss_df, pop_density_df, on='State_Abb')\n",
    "\n",
    "pop_and_bees_df_sorted_pop = pop_and_bees_df.sort_values(by='Mean_y', ascending=False)\n",
    "pop_and_bees_df_sorted_pop_top5 = pop_and_bees_df_sorted_pop.head()\n",
    "pop_and_bees_df_sorted_pop_top5"
   ]
  },
  {
   "cell_type": "code",
   "execution_count": null,
   "metadata": {},
   "outputs": [],
   "source": [
    "pop_and_bees_df_sorted_bees = pop_and_bees_df.sort_values(by='Mean_x', ascending=False)\n",
    "pop_and_bees_df_sorted_bees_top5 = pop_and_bees_df_sorted_bees.head()\n",
    "pop_and_bees_df_sorted_bees_top5"
   ]
  },
  {
   "cell_type": "code",
   "execution_count": null,
   "metadata": {},
   "outputs": [],
   "source": [
    "x_axis = np.arange(len(pop_and_bees_df_sorted_pop_top5))\n",
    "tick_locations = [value+0.4 for value in x_axis]\n",
    "\n",
    "plt.figure(figsize=(10,3))\n",
    "plt.bar(x_axis, pop_and_bees_df_sorted_pop_top5.Mean_y, color='g', alpha=0.5, align=\"edge\")\n",
    "plt.xticks(tick_locations, pop_and_bees_df_sorted_pop_top5.State, rotation=\"horizontal\")\n",
    "\n",
    "# Set a Title and labels\n",
    "plt.title(\"Top 5 States on Mean Population Density from 2015-2019\")\n",
    "plt.xlabel(\"State\")\n",
    "plt.ylabel(\"Mean Population Density\")\n",
    "\n",
    "plt.savefig('Top 5 States on Mean Population Density Bar.png')\n",
    "\n",
    "plt.grid()"
   ]
  },
  {
   "cell_type": "code",
   "execution_count": null,
   "metadata": {},
   "outputs": [],
   "source": [
    "x_axis = np.arange(len(pop_and_bees_df_sorted_pop_top5))\n",
    "tick_locations = [value+0.4 for value in x_axis]\n",
    "\n",
    "plt.figure(figsize=(10,3))\n",
    "plt.bar(x_axis, pop_and_bees_df_sorted_bees_top5.Mean_x, color='r', alpha=0.5, align=\"edge\")\n",
    "plt.xticks(tick_locations, pop_and_bees_df_sorted_bees_top5.State, rotation=\"horizontal\")\n",
    "\n",
    "# Set a Title and labels\n",
    "plt.title(\"Top 5 States on Mean Bees Percent Loss from 2015-2019\")\n",
    "plt.xlabel(\"State\")\n",
    "plt.ylabel(\"% Loss of Colonies\")\n",
    "\n",
    "plt.savefig('Top 5 States on Mean Bees Percent Loss Bar.png')\n",
    "\n",
    "plt.grid()"
   ]
  },
  {
   "cell_type": "code",
   "execution_count": null,
   "metadata": {},
   "outputs": [],
   "source": []
  },
  {
   "cell_type": "code",
   "execution_count": null,
   "metadata": {},
   "outputs": [],
   "source": []
  },
  {
   "cell_type": "code",
   "execution_count": null,
   "metadata": {},
   "outputs": [],
   "source": []
  },
  {
   "cell_type": "code",
   "execution_count": null,
   "metadata": {},
   "outputs": [],
   "source": []
  }
 ],
 "metadata": {
  "kernelspec": {
   "display_name": "Python 3",
   "language": "python",
   "name": "python3"
  },
  "language_info": {
   "codemirror_mode": {
    "name": "ipython",
    "version": 3
   },
   "file_extension": ".py",
   "mimetype": "text/x-python",
   "name": "python",
   "nbconvert_exporter": "python",
   "pygments_lexer": "ipython3",
   "version": "3.7.4"
  }
 },
 "nbformat": 4,
 "nbformat_minor": 2
}
